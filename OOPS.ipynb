{
  "nbformat": 4,
  "nbformat_minor": 0,
  "metadata": {
    "colab": {
      "provenance": []
    },
    "kernelspec": {
      "name": "python3",
      "display_name": "Python 3"
    },
    "language_info": {
      "name": "python"
    }
  },
  "cells": [
    {
      "cell_type": "code",
      "execution_count": null,
      "metadata": {
        "id": "yPINo-RTCWc8"
      },
      "outputs": [],
      "source": []
    },
    {
      "cell_type": "markdown",
      "source": [
        "# OOPS"
      ],
      "metadata": {
        "id": "0KqSZ_kUCX8i"
      }
    },
    {
      "cell_type": "markdown",
      "source": [
        "**Question 1.** What is Object-Oriented Programming (OOP)?\n",
        "\n",
        "**Answer :**\n",
        "\n",
        "*  Object-Oriented Programming (OOP) is a method of programming that focuses on using objects instead of just functions. An object represents a real-world entity and contains data (attributes) and methods (functions). The four main principles of OOP are Encapsulation (hiding data), Abstraction (showing only necessary details), Inheritance (reusing features from other classes), and Polymorphism (using one function in many ways). OOP makes programs easier to understand, reusable, and more secure.\n",
        "\n",
        "**Example :**\n",
        "\n",
        "\n",
        "\n",
        "```\n",
        "# class Car:\n",
        "    def __init__(self, brand, color):\n",
        "        self.brand = brand\n",
        "        self.color = color\n",
        "\n",
        "    def start(self):\n",
        "        print(f\"{self.brand} car is starting.\")\n",
        "\n",
        "# Creating object\n",
        "car1 = Car(\"Toyota\", \"Red\")\n",
        "car1.start()\n",
        "\n",
        "```\n",
        "\n"
      ],
      "metadata": {
        "id": "LktwJ2isCfDx"
      }
    },
    {
      "cell_type": "markdown",
      "source": [],
      "metadata": {
        "id": "LKe18Fu1DKLJ"
      }
    },
    {
      "cell_type": "markdown",
      "source": [
        "**Question 2.** What is a class in OOP?\n",
        "\n",
        "**Answer**\n",
        "\n",
        "*   A class in Object-Oriented Programming (OOP) is a blueprint or template used to create objects. It defines the attributes (data) and methods (functions) that the objects created from it will have. A class itself does not hold data, but when an object (instance) is created from the class, it stores specific values.\n",
        "\n",
        "**Example :**\n",
        "\n",
        "\n",
        "```\n",
        "# class Student:\n",
        "    def __init__(self, name, age):\n",
        "        self.name = name\n",
        "        self.age = age\n",
        "    \n",
        "    def display(self):\n",
        "        print(f\"Name: {self.name}, Age: {self.age}\")\n",
        "\n",
        "# Creating an object (instance) of class\n",
        "s1 = Student(\"Priya\", 23)\n",
        "s1.display()\n",
        "```\n",
        "    Here: Student is the class\n",
        "\n"
      ],
      "metadata": {
        "id": "9GoDBfteDaxR"
      }
    },
    {
      "cell_type": "markdown",
      "source": [
        "**Question 3.** What is an object in OOP?\n",
        "\n",
        "**Answer :**\n",
        "\n",
        "\n",
        "*   An object in Object-Oriented Programming (OOP) is an instance of a class. While a class is only a blueprint, an object is the actual entity that holds data (attributes) and can perform actions (methods) defined in the class. Each object can have different values for its attributes but shares the same structure from the class.\n",
        "\n",
        "\n",
        "```\n",
        "class Car:\n",
        "    def __init__(self, brand, color):\n",
        "        self.brand = brand\n",
        "        self.color = color\n",
        "\n",
        "    def start(self):\n",
        "        print(f\"{self.color} {self.brand} car is starting.\")\n",
        "\n",
        "# Creating objects\n",
        "car1 = Car(\"Honda\", \"Red\")\n",
        "car2 = Car(\"Toyota\", \"Black\")\n",
        "\n",
        "car1.start()   # Output: Red Honda car is starting.\n",
        "car2.start()   # Output: Black Toyota car is starting.\n",
        "\n",
        "```\n",
        "\n",
        "    Here\n",
        "\n",
        "         *   Car → Class\n",
        "         *   car1 and car2 → Objects (with their own data and behavior)\n",
        "\n",
        "\n",
        "\n",
        "\n"
      ],
      "metadata": {
        "id": "cFOdH31cEq5G"
      }
    },
    {
      "cell_type": "markdown",
      "source": [
        "**Question 4.**  What is the difference between abstraction and encapsulation?\n",
        "\n",
        "**Answer :**\n",
        "\n",
        "- Difference Between Abstraction and Encapsulation\n",
        "\n",
        "| **Feature**        | **Abstraction**                                                                           | **Encapsulation**                                                                                   |\n",
        "| ------------------ | ----------------------------------------------------------------------------------------- | --------------------------------------------------------------------------------------------------- |\n",
        "| **Meaning**        | Hiding the implementation details and showing only the essential features.                | Wrapping data (variables) and methods (functions) together into a single unit (class).              |\n",
        "| **Focus**          | Focuses on *what* a system does.                                                          | Focuses on *how* data is protected and organized.                                                   |\n",
        "| **Implementation** | Achieved using **abstract classes** and **interfaces**.                                   | Achieved using **classes, access modifiers** (like private, public, protected).                     |\n",
        "| **Purpose**        | To hide unnecessary details and show only relevant information.                           | To restrict direct access to data and ensure controlled access.                                     |\n",
        "| **Example**        | A user pressing a **car brake** only knows it stops the car, not how it works internally. | A **car’s engine** hides internal data, but provides methods like `start()` or `stop()` for access. |\n",
        "\n",
        "\n",
        "\n"
      ],
      "metadata": {
        "id": "fGlS_riLG_g6"
      }
    },
    {
      "cell_type": "markdown",
      "source": [
        "**Question 5.** What are dunder methods in Python ?\n",
        "\n",
        "**Answer :**\n",
        "\n",
        "*   Dunder methods (also called magic methods or special methods) are built-in methods in Python that start and end with double underscores (__method__).\n",
        "They allow us to define how objects of a class should behave with operators, functions, and built-in features.\n",
        "\n",
        "**For example:**\n",
        "\n",
        "\n",
        "*   __init__ → Initializes an object when it is created.\n",
        "*   __str__ → Defines how the object is displayed as a string.\n",
        "*   __len__ → Defines behavior of len() function for the object.\n",
        "*   __add__ → Defines behavior of + operator for the object.\n",
        "\n",
        "\n",
        "\n",
        "```\n",
        "# class Book:\n",
        "    def __init__(self, title, pages):\n",
        "        self.title = title\n",
        "        self.pages = pages\n",
        "\n",
        "    def __str__(self):\n",
        "        return f\"Book: {self.title}, Pages: {self.pages}\"\n",
        "\n",
        "    def __len__(self):\n",
        "        return self.pages\n",
        "\n",
        "book1 = Book(\"Python Basics\", 250)\n",
        "\n",
        "print(book1)        # Calls __str__ → Book: Python Basics, Pages: 250\n",
        "print(len(book1))   # Calls __len__ → 250\n",
        "\n",
        "```\n",
        "\n",
        "\n",
        "\n",
        "\n",
        "\n"
      ],
      "metadata": {
        "id": "jyVVk7PSKeOi"
      }
    },
    {
      "cell_type": "markdown",
      "source": [
        "**Question 6.** Explain the concept of inheritance in OOP?\n",
        "\n",
        "**Answer :**\n",
        "\n",
        "##   Inheritance in OOP\n",
        "Inheritance is a fundamental concept in Object-Oriented Programming (OOP) that allows a class (child/derived class) to reuse the properties and methods of another class (parent/base class). This promotes code reusability, reduces redundancy, and makes programs easier to maintain.\n",
        "\n",
        "**Types of Inheritance :**\n",
        "\n",
        "\n",
        "\n",
        "1.   Single Inheritance → One child class inherits from one parent class.\n",
        "2.   Multiple Inheritance → A class inherits from more than one parent class.\n",
        "3.   Multilevel Inheritance → A class inherits from a parent, and another class inherits from it (like a chain).\n",
        "4.   Hierarchical Inheritance → Multiple child classes inherit from one parent class.\n",
        "\n",
        "**Example :**\n",
        "\n",
        "```\n",
        "# # Parent class\n",
        "class Animal:\n",
        "    def speak(self):\n",
        "        print(\"This is an animal sound.\")\n",
        "\n",
        "# Child class\n",
        "class Dog(Animal):\n",
        "    def speak(self):\n",
        "        print(\"Bark! Bark!\")\n",
        "\n",
        "# Object of Dog\n",
        "d = Dog()\n",
        "d.speak()   # Output: Bark! Bark!\n",
        "\n",
        "```\n",
        "\n",
        "\n",
        "Here:\n",
        "\n",
        "*   Animal → Parent Class\n",
        "*   Dog → Child Class (inherits from Animal)\n",
        "\n",
        "\n",
        "\n",
        "\n",
        "\n",
        "\n",
        "\n"
      ],
      "metadata": {
        "id": "hf3RYAlLMTAy"
      }
    },
    {
      "cell_type": "markdown",
      "source": [
        "**Question 7.**  What is polymorphism in OOP?\n",
        "\n",
        "**Answer :**\n",
        "\n",
        "\n",
        "*   Polymorphism means in OOP, it allows the same function, operator, or method name to behave differently depending on the object or context.\n",
        "\n",
        "*   It makes programs more flexible and easier to maintain.\n",
        "\n",
        "**Types of Polymorphism :**\n",
        "\n",
        "1.   Compile-time (Overloading) → Same function name with different parameters. (Python doesn’t support it directly, but we can achieve it with default arguments.\n",
        "\n",
        "2.   Run-time (Overriding) → A child class provides a new implementation of a method defined in its parent class.\n",
        "\n",
        "**Example :**\n",
        "\n",
        "\n",
        "\n",
        "```\n",
        "# Parent class\n",
        "class Animal:\n",
        "    def speak(self):\n",
        "        print(\"Animal makes a sound.\")\n",
        "\n",
        "# Child classes\n",
        "class Dog(Animal):\n",
        "    def speak(self):\n",
        "        print(\"Dog barks.\")\n",
        "\n",
        "class Cat(Animal):\n",
        "    def speak(self):\n",
        "        print(\"Cat meows.\")\n",
        "\n",
        "# Polymorphism in action\n",
        "animals = [Dog(), Cat()]\n",
        "for a in animals:\n",
        "    a.speak()\n",
        "\n",
        "```\n",
        "\n",
        "\n",
        "  \n",
        "\n"
      ],
      "metadata": {
        "id": "msetpRfAt1dH"
      }
    },
    {
      "cell_type": "markdown",
      "source": [
        "**Question 8.** How is encapsulation achieved in Python?\n",
        "\n",
        "**Answer :**\n",
        "\n",
        "##Encapsulation in Python\n",
        "Encapsulation is the process of hiding data (variables) and restricting direct access to it. In Python, encapsulation is achieved using access modifiers:\n",
        "\n",
        "\n",
        "\n",
        "1.   Public Members: Accessible from anywhere.\n",
        "\n",
        "      *  Example: self.name\n",
        "\n",
        "2.   Protected Members: Indicated by a single underscore _, should not be accessed directly outside the class (but still possible).\n",
        "\n",
        "       *  Example: self._salary\n",
        "\n",
        "3.   Private Members: Indicated by double underscore __, cannot be accessed directly from outside the class.\n",
        "\n",
        "       *  Example: self.__accountNumber\n",
        "\n",
        "\n",
        "**Example :**\n",
        "\n",
        "```\n",
        "#class Employee:\n",
        "    def __init__(self, name, salary):\n",
        "        self.name = name            # Public\n",
        "        self._salary = salary       # Protected\n",
        "        self.__accountNumber = 12345  # Private\n",
        "\n",
        "    def showDetails(self):\n",
        "        print(f\"Name: {self.name}, Salary: {self._salary}\")\n",
        "\n",
        "emp = Employee(\"Priya\", 50000)\n",
        "emp.showDetails()\n",
        "\n",
        "print(emp.name)        # ✅ Accessible (Public)\n",
        "print(emp._salary)     # ⚠️ Not recommended (Protected)\n",
        "# print(emp.__accountNumber)  ❌ Error (Private)\n",
        "\n",
        "```\n",
        "\n",
        "\n",
        "\n",
        "\n",
        "\n"
      ],
      "metadata": {
        "id": "qm4F9Ie9wf0D"
      }
    },
    {
      "cell_type": "markdown",
      "source": [
        "**Question 9.** What is a constructor in Python?\n",
        "\n",
        "**Answer :**\n",
        "\n",
        "**Constructor in Python**\n",
        "\n",
        "- A constructor in Python is a special method used to initialize objects of a class. It is automatically called when a new object is created.\n",
        "\n",
        "- In Python, the constructor method is named __init__(). It assigns initial values to the object’s attributes.\n",
        "\n",
        "**Example :**\n",
        "\n",
        "\n",
        "\n",
        "```\n",
        "# class Student:\n",
        "    def __init__(self, name, age):   # Constructor\n",
        "        self.name = name\n",
        "        self.age = age\n",
        "\n",
        "    def show(self):\n",
        "        print(f\"Name: {self.name}, Age: {self.age}\")\n",
        "\n",
        "# Creating object → constructor called automatically\n",
        "s1 = Student(\"Priya\", 23)\n",
        "s1.show()\n",
        "\n",
        "```\n",
        "\n",
        "\n"
      ],
      "metadata": {
        "id": "SqxDwz1F0A9J"
      }
    },
    {
      "cell_type": "markdown",
      "source": [
        "**Question 10.**  What are class and static methods in Python?\n",
        "\n",
        "**Answer :**\n",
        "\n",
        "**Class and Static Methods in Python :**\n",
        "\n",
        "\n",
        "1.  **Class** **Method** :\n",
        "     - Defined using the @classmethod decorator.\n",
        "\n",
        "     - Takes cls (class reference) as the first argument instead of self.\n",
        "\n",
        "     - Can access and modify class-level variables, but not instance variables.\n",
        "**Example:**\n",
        "\n",
        "\n",
        "\n",
        "\n",
        "```\n",
        "# class Student:\n",
        "    school = \"ABC School\"   # Class variable\n",
        "\n",
        "    def __init__(self, name):\n",
        "        self.name = name\n",
        "\n",
        "    @classmethod\n",
        "    def getSchool(cls):\n",
        "        return cls.school\n",
        "\n",
        "print(Student.getSchool())   # Output: ABC School\n",
        "\n",
        "```\n",
        "\n",
        "2.   **Static Method :**\n",
        "     - Defined using the @staticmethod decorator.\n",
        "\n",
        "     - Does not take self or cls as the first argument.\n",
        "\n",
        "     - Works like a normal function but belongs to the class.\n",
        "\n",
        "     - Cannot access class or instance variables directly.\n",
        "\n",
        "**Example:**\n",
        "\n",
        "\n",
        "```\n",
        "# class Math:\n",
        "    @staticmethod\n",
        "    def add(x, y):\n",
        "        return x + y\n",
        "\n",
        "print(Math.add(5, 10))   # Output: 15\n",
        "\n",
        "```\n",
        "\n",
        "\n",
        "\n"
      ],
      "metadata": {
        "id": "OsVyvClt034J"
      }
    },
    {
      "cell_type": "markdown",
      "source": [
        "**Question 11.**  What is method overloading in Python?\n",
        "\n",
        "**Answer :**\n",
        "\n",
        "*   Method Overloading means defining multiple methods with the same name but different parameters. In many programming languages (like Java or C++), method overloading is directly supported.\n",
        "\n",
        "      However, Python does not support true method overloading. If we define multiple methods with the same name, the latest definition will override the previous ones.To achieve similar functionality, Python uses default arguments or variable-length arguments (*args, **kwargs).\n",
        "\n",
        "**Example :**\n",
        "\n",
        "\n",
        "\n",
        "```\n",
        "# class Math:\n",
        "    def add(self, a=0, b=0, c=0):\n",
        "        return a + b + c\n",
        "\n",
        "m = Math()\n",
        "print(m.add(5, 10))       # Adds 2 numbers\n",
        "print(m.add(5, 10, 15))   # Adds 3 numbers\n",
        "\n",
        "```\n",
        "\n",
        "**Conclusion:**\n",
        "Python simulates method overloading using default or variable arguments, even though it does not support it directly.\n"
      ],
      "metadata": {
        "id": "qznCcf9n3LnH"
      }
    },
    {
      "cell_type": "markdown",
      "source": [
        "**Question 12.** What is method overriding in OOP?\n",
        "\n",
        "**Answer :**\n",
        "\n",
        "*   Method overriding is a feature in Object-Oriented Programming where a child class provides its own version of a method that is already defined in the parent class. The method name and parameters must be the same. It allows different behaviors for the same method depending on the object, enabling runtime polymorphism.\n",
        "\n",
        "**Example :**\n",
        "\n",
        "\n",
        "\n",
        "```\n",
        "class Animal:\n",
        "    def speak(self):\n",
        "        print(\"Animal makes a sound.\")\n",
        "\n",
        "class Dog(Animal):\n",
        "    def speak(self):  # Overriding the parent method\n",
        "        print(\"Dog barks.\")\n",
        "\n",
        "d = Dog()\n",
        "d.speak()  # Output: Dog barks.\n",
        "\n",
        "```\n",
        "\n"
      ],
      "metadata": {
        "id": "cY1WGUQ94MJ7"
      }
    },
    {
      "cell_type": "markdown",
      "source": [
        "**Question 13.** What is a property decorator in Python?\n",
        "\n",
        "**Answer :**\n",
        "\n",
        "\n",
        "\n",
        "*   The property decorator in Python is used to define a method that can be accessed like an attribute. It allows you to use getter methods without calling them explicitly, making code cleaner and more readable.\n",
        "\n",
        "**Example:**\n",
        "\n",
        "\n",
        "\n",
        "```\n",
        "# class Student:\n",
        "    def __init__(self, name):\n",
        "        self._name = name\n",
        "\n",
        "    @property\n",
        "    def name(self):  # Getter method\n",
        "        return self._name\n",
        "\n",
        "s = Student(\"Priya\")\n",
        "print(s.name)  # Accessing method like an attribute\n",
        "\n",
        "```\n",
        "\n"
      ],
      "metadata": {
        "id": "rKf--SNj5WyY"
      }
    },
    {
      "cell_type": "markdown",
      "source": [
        "**Question 14.** Why is polymorphism important in OOP?\n",
        "\n",
        "**Answer :**\n",
        "\n",
        "\n",
        "\n",
        "*   Polymorphism allows the same method or function name to behave differently based on the object calling it. This makes code more flexible, reusable, and easier to maintain. It supports dynamic method execution and helps in implementing real-world behavior in programs.\n",
        "\n",
        "**Benefits:**\n",
        "\n",
        "\n",
        "\n",
        "*   Simplifies code structure\n",
        "*   Enhances reusability\n",
        "\n",
        "*   Supports runtime flexibility\n",
        "*   Promotes cleaner and scalable design\n",
        "\n",
        "**Example :**\n",
        "\n",
        "\n",
        "\n",
        "```\n",
        "# class Animal:\n",
        "    def speak(self):\n",
        "        print(\"Animal sound\")\n",
        "\n",
        "class Dog(Animal):\n",
        "    def speak(self):\n",
        "        print(\"Dog barks\")\n",
        "\n",
        "class Cat(Animal):\n",
        "    def speak(self):\n",
        "        print(\"Cat meows\")\n",
        "\n",
        "for pet in [Dog(), Cat()]:\n",
        "    pet.speak()\n",
        "\n",
        "```\n",
        "\n",
        "**Output :**\n",
        "\n",
        "\n",
        "\n",
        "```\n",
        "# Dog barks\n",
        "  Cat meows\n",
        "\n",
        "```\n",
        "\n",
        "\n",
        "\n",
        "\n",
        "\n"
      ],
      "metadata": {
        "id": "ahga9QpZ57BQ"
      }
    },
    {
      "cell_type": "markdown",
      "source": [
        "**Question 15.** What is an abstract class in Python?\n",
        "\n",
        "**Answer:**\n",
        "\n",
        "\n",
        "\n",
        "*   An abstract class in Python is a class that cannot be instantiated directly. It is used to define a common interface for all its child classes. Abstract classes contain one or more abstract methods, which must be implemented by the subclasses.\n",
        "\n",
        "    Python uses the abc module to create abstract classes.\n",
        "\n",
        "\n",
        "\n",
        "```\n",
        "# from abc import ABC, abstractmethod\n",
        "\n",
        "class Shape(ABC):\n",
        "    @abstractmethod\n",
        "    def area(self):\n",
        "        pass\n",
        "\n",
        "class Circle(Shape):\n",
        "    def area(self):\n",
        "        return \"Area of circle\"\n",
        "\n",
        "c = Circle()\n",
        "print(c.area())  # Output: Area of circle\n",
        "\n",
        "```\n",
        "\n",
        "**Key Points:**\n",
        "\n",
        "\n",
        "\n",
        "*   Use ABC as the base class.\n",
        "*   Use @abstractmethod decorator.\n",
        "\n",
        "*   Cannot create objects of abstract class directly.\n",
        "\n",
        "\n",
        "\n",
        "\n",
        "\n",
        "\n"
      ],
      "metadata": {
        "id": "uGlR0NnU8JOb"
      }
    },
    {
      "cell_type": "markdown",
      "source": [
        "**Question 16.** What are the advantages of OOP?\n",
        "\n",
        "**Answer :**\n",
        "\n",
        " Object-Oriented Programming (OOP) offers several benefits that make software development more efficient and organized:\n",
        "\n",
        "\n",
        "\n",
        "*  **Modularity:** Code is divided into classes and objects, making it easier to manage.\n",
        "\n",
        "\n",
        "*   **Reusability:** Inheritance allows reuse of existing code, reducing duplication.\n",
        "\n",
        "\n",
        "\n",
        "*   **Flexibility:** Polymorphism enables dynamic method execution based on object type.\n",
        "*   **Security:**  Encapsulation hides internal data and protects it from unauthorized access.\n",
        "\n",
        "\n",
        "\n",
        "\n",
        "*   **Maintainability:**  Code is easier to update and debug due to its structured design.\n",
        "*   **Real-world Modeling:** Objects represent real-world entities, making programs intuitive.\n",
        "\n",
        "\n",
        "\n",
        "```\n",
        "# class Car:\n",
        "    def __init__(self, brand):\n",
        "        self.brand = brand\n",
        "\n",
        "    def start(self):\n",
        "        print(f\"{self.brand} car is starting.\")\n",
        "\n",
        "car1 = Car(\"Toyota\")\n",
        "car1.start()\n",
        "\n",
        "```\n",
        "\n",
        "\n",
        "\n",
        "\n"
      ],
      "metadata": {
        "id": "O-4CSTAx82xu"
      }
    },
    {
      "cell_type": "markdown",
      "source": [
        "**Question 17.** What is the difference between a class variable and an instance variable ?\n",
        "\n",
        "**Answer :**\n",
        "\n",
        "\n",
        "\n",
        "*   **Class Variable:** Shared by all instances of a class. Defined inside the class but outside any method. Used for values common to all objects.\n",
        "\n",
        "*   **Instance Variable:** Unique to each object. Defined inside the constructor using self. Stores data specific to that object.\n",
        "\n",
        "\n",
        "\n",
        "```\n",
        "# class Student:\n",
        "    school = \"ABC School\"  # Class variable\n",
        "\n",
        "    def __init__(self, name):\n",
        "        self.name = name     # Instance variable\n",
        "\n",
        "s1 = Student(\"Priya\")\n",
        "s2 = Student(\"Varsha\")\n",
        "\n",
        "print(s1.school)  # Output: ABC School\n",
        "print(s2.name)    # Output: Varsha\n",
        "\n",
        "```\n",
        "\n",
        "**Key Difference:**\n",
        "\n",
        "\n",
        "\n",
        "*   Changing school affects all students.\n",
        "*   Changing name affects only that specific student.\n",
        "\n",
        "\n"
      ],
      "metadata": {
        "id": "TRRCDVGa-ihf"
      }
    },
    {
      "cell_type": "markdown",
      "source": [
        "**Question 18.**  What is multiple inheritance in Python?\n",
        "\n",
        "**Answer :**\n",
        "\n",
        "\n",
        "*   Multiple inheritance is a feature in Python where a class can inherit from more than one parent class. This allows the child class to access attributes and methods from all its parent classes.\n",
        "\n",
        "**Example: **\n",
        "\n",
        "\n",
        "\n",
        "```\n",
        "# class Parent1:\n",
        "    def method1(self):\n",
        "        print(\"Method from Parent1\")\n",
        "\n",
        "class Parent2:\n",
        "    def method2(self):\n",
        "        print(\"Method from Parent2\")\n",
        "\n",
        "class Child(Parent1, Parent2):  # Multiple inheritance\n",
        "    pass\n",
        "\n",
        "c = Child()\n",
        "c.method1()  # Output: Method from Parent1\n",
        "c.method2()  # Output: Method from Parent2\n",
        "\n",
        "```\n",
        "\n",
        "**Key Point:**\n",
        "\n",
        "Python uses the Method Resolution Order (MRO) to decide which method to call when there are conflicts.\n"
      ],
      "metadata": {
        "id": "dCmAGVo2_ckz"
      }
    },
    {
      "cell_type": "markdown",
      "source": [
        "**Question 19.** Explain the purpose of  '_str _ 'and' '_repr _' methods in Python?\n",
        "\n",
        "**Answer :**\n",
        "\n",
        "\n",
        "\n",
        "*   Both _str _ and _repr _ are special (dunder) methods in Python used to define how objects are represented as strings.\n",
        "\n",
        "\n",
        "\n",
        "  *  ** _str _  Method : **\n",
        "\n",
        "\n",
        "      *   Used to create a user-friendly string representation of an object.\n",
        "      *   Called by the print() function or str().\n",
        "\n",
        "**Example :**\n",
        "\n",
        "```\n",
        "# class Book:\n",
        "    def __init__(self, title, pages):\n",
        "        self.title = title\n",
        "        self.pages = pages\n",
        "\n",
        "    def __str__(self):\n",
        "        return f\"Book: {self.title}, Pages: {self.pages}\"\n",
        "\n",
        "b = Book(\"Python Basics\", 250)\n",
        "print(b)  # Output: Book: Python Basics, Pages: 250\n",
        "\n",
        "```\n",
        "\n",
        "** _ repr _ Method:**\n",
        "\n",
        "\n",
        "*   Used to create an unambiguous string representation of an object, mainly for debugging.\n",
        "*   Called by the repr() function or when inspecting objects in the interpreter.\n",
        "\n",
        "**Example :**\n",
        "\n",
        "\n",
        "\n",
        "```\n",
        "# class Book:\n",
        "    def __init__(self, title, pages):\n",
        "        self.title = title\n",
        "        self.pages = pages\n",
        "\n",
        "    def __repr__(self):\n",
        "        return f\"Book('{self.title}', {self.pages})\"\n",
        "\n",
        "b = Book(\"Python Basics\", 250)\n",
        "print(repr(b))  # Output: Book('Python Basics', 250)\n",
        "\n",
        "```\n",
        "\n",
        "**Key Difference:**\n",
        "\n",
        "| Feature       | `__str__`                          | `__repr__`                          |\n",
        "|---------------|------------------------------------|-------------------------------------|\n",
        "| Purpose       | User-friendly string output        | Developer-focused string output     |\n",
        "| Used by       | `print()` or `str()`               | `repr()` or interpreter             |\n",
        "| Output Style  | Readable and descriptive           | Formal and unambiguous              |\n",
        "| Goal          | For end-user display               | For debugging and logging           |\n",
        "\n"
      ],
      "metadata": {
        "id": "socPdr7ZAFFh"
      }
    },
    {
      "cell_type": "markdown",
      "source": [
        "**Question 20.**  What is the significance of the ‘super()’ function in Python?\n",
        "\n",
        "**Answer :**\n",
        "\n",
        "\n",
        "\n",
        "*   The super() function in Python is used to call methods from a parent class inside a child class. It plays a key role in inheritance and method overriding, helping maintain clean and reusable code.\n",
        "\n",
        "\n",
        "### Key Points of `super()` Function in Python\n",
        "\n",
        "| Feature                     | Description                                                                 |\n",
        "|----------------------------|-----------------------------------------------------------------------------|\n",
        "| Access Parent Methods      | Allows child class to use methods from its parent class.                    |\n",
        "| Supports Inheritance       | Promotes code reuse and avoids duplication.                                 |\n",
        "| Avoids Hardcoding          | No need to mention parent class name explicitly—makes code easier to update.|\n",
        "| Method Overriding          | Enables calling the original method even after overriding it.               |\n",
        "| Multiple Inheritance       | Works with Method Resolution Order (MRO) to resolve method calls.           |\n",
        "\n",
        "**Example: **\n",
        "\n",
        "\n",
        "\n",
        "```\n",
        "# class Person:\n",
        "    def __init__(self, name):\n",
        "        self.name = name\n",
        "\n",
        "class Student(Person):\n",
        "    def __init__(self, name, grade):\n",
        "        super().__init__(name)  # Calls parent class constructor\n",
        "        self.grade = grade\n",
        "\n",
        "s = Student(\"Priya\", \"A\")\n",
        "print(s.name)   # Output: Priya\n",
        "print(s.grade)  # Output: A\n",
        "\n",
        "```\n",
        "\n",
        "**Conclusion:**\n",
        "\n",
        "The super() function simplifies inheritance, supports method overriding, and ensures that parent class methods are properly reused. It helps write cleaner, more maintainable object-oriented code.\n",
        "\n"
      ],
      "metadata": {
        "id": "fdMm-KwoJAs1"
      }
    },
    {
      "cell_type": "markdown",
      "source": [
        "**Question 21.** What is the significance of the _ del__ method in Python?\n",
        "\n",
        "**Answer :**\n",
        "\n",
        "\n",
        "*   The __del__ method in Python is a special method known as a destructor. It is automatically called when an object is about to be destroyed, allowing you to define custom cleanup actions such as releasing external resources (e.g., files, network connections, or database handles).\n",
        "\n",
        "**Key Points of __ del__ Method**\n",
        "\n",
        "| Feature                     | Description                                                                 |\n",
        "|----------------------------|-----------------------------------------------------------------------------|\n",
        "| Destructor Method          | Called when an object is about to be destroyed.                             |\n",
        "| Cleanup Actions            | Used to release resources like file handles or database connections.        |\n",
        "| Automatic Invocation       | Triggered by Python’s garbage collector when an object’s reference count is zero. |\n",
        "| Syntax                     | `def __del__(self):` defines the destructor inside a class.                 |\n",
        "| Use with Caution           | Not recommended for critical cleanup—prefer context managers (`with` block).|\n",
        "\n",
        "\n",
        "**Example :**\n",
        "\n",
        "```\n",
        "# class FileHandler:\n",
        "    def __init__(self, filename):\n",
        "        self.file = open(filename, 'w')\n",
        "        self.file.write(\"Temporary data\")\n",
        "\n",
        "    def __del__(self):\n",
        "        print(\"Closing file...\")\n",
        "        self.file.close()\n",
        "\n",
        "handler = FileHandler(\"temp.txt\")\n",
        "del handler  # Triggers __del__ method\n",
        "\n",
        "```\n",
        "\n",
        "**Conclusion:**\n",
        "\n",
        "The __ del_ method helps manage resource cleanup when objects are deleted. However, due to its unpredictable timing, it’s safer to use context managers (with statements) for reliable resource management.\n",
        "\n"
      ],
      "metadata": {
        "id": "YmF6_M1jKyMR"
      }
    },
    {
      "cell_type": "markdown",
      "source": [
        "**Question 22.** What is the difference between @staticmethod and @classmethod in Python ?\n",
        "\n",
        "**Answer :**\n",
        "\n",
        "  \n",
        "\n",
        "*   Both @staticmethod and @classmethod are decorators used to define methods inside a class that are not regular instance methods. However, they differ in how they access class data and how they are used.\n",
        "\n",
        "**Key Differences Between @staticmethod and @classmethod**\n",
        "\n",
        "| Feature                  | `@staticmethod`                                              | `@classmethod`                                               |\n",
        "|-------------------------|--------------------------------------------------------------|--------------------------------------------------------------|\n",
        "| First Argument          | No implicit first argument                                   | Takes `cls` as the first argument (refers to the class)      |\n",
        "| Access to Class State   | Cannot access or modify class or instance attributes         | Can access and modify class-level attributes                 |\n",
        "| Use Case                | Utility functions that don’t depend on class or instance     | Factory methods or class-level operations                    |\n",
        "| Binding                 | Bound to the class, not the instance                         | Bound to the class, not the instance                         |\n",
        "| Inheritance Support     | Limited—does not adapt to subclass context                   | Fully supports inheritance and subclass context              |\n",
        "\n",
        "**Example:**\n",
        "\n",
        "```\n",
        "# class MathOperations:\n",
        "    @staticmethod\n",
        "    def multiply(x, y):\n",
        "        return x * y\n",
        "\n",
        "    @classmethod\n",
        "    def description(cls):\n",
        "        return f\"This is a method from {cls.__name__} class\"\n",
        "\n",
        "print(MathOperations.multiply(3, 4))      # Output: 12\n",
        "print(MathOperations.description())       # Output: This is a method from MathOperations class\n",
        "\n",
        "```\n",
        "\n",
        "**Conclusion:**\n",
        "\n",
        "\n",
        "\n",
        "*   Use @staticmethod for independent utility functions.\n",
        "*   Use @classmethod when you need access to the class itself, especially for factory methods or modifying class-level data.\n",
        "\n",
        "\n"
      ],
      "metadata": {
        "id": "oNcYXurFMI-U"
      }
    },
    {
      "cell_type": "markdown",
      "source": [
        "**Question 23.**  How does polymorphism work in Python with inheritance?\n",
        "\n",
        "**Answer :**\n",
        "\n",
        "\n",
        "\n",
        "*   Polymorphism allows the same method name to behave differently depending on the object calling it. In Python, this is achieved through method overriding in inheritance. A child class can override a method from its parent class, and when the method is called, Python decides which version to execute based on the object type.\n",
        "\n",
        "**Key Points of Polymorphism with Inheritance :**\n",
        "\n",
        "\n",
        "| Feature                  | Description                                                                 |\n",
        "|-------------------------|-----------------------------------------------------------------------------|\n",
        "| Method Overriding       | Child class redefines a method from the parent class.                       |\n",
        "| Runtime Behavior        | Method execution depends on the object type at runtime.                     |\n",
        "| Flexibility             | Same method name can perform different tasks for different classes.         |\n",
        "| Code Reusability        | Promotes cleaner and reusable code through inheritance.                     |\n",
        "| Real-world Modeling     | Mimics real-world behavior where different objects respond uniquely.        |\n",
        "\n",
        "\n",
        "**Example :**\n",
        "\n",
        "\n",
        "\n",
        "```\n",
        "# class Animal:\n",
        "    def speak(self):\n",
        "        print(\"Animal makes a sound.\")\n",
        "\n",
        "class Dog(Animal):\n",
        "    def speak(self):\n",
        "        print(\"Dog barks.\")\n",
        "\n",
        "class Cat(Animal):\n",
        "    def speak(self):\n",
        "        print(\"Cat meows.\")\n",
        "\n",
        "# Polymorphism in action\n",
        "for pet in [Dog(), Cat()]:\n",
        "    pet.speak()\n",
        "\n",
        "```\n",
        "\n",
        "**Output:**\n",
        "\n",
        "\n",
        "Dog barks.\n",
        "Cat meows.\n",
        "\n"
      ],
      "metadata": {
        "id": "WSmluYdlM_sG"
      }
    },
    {
      "cell_type": "markdown",
      "source": [
        "**Question 24.** What is method chaining in Python OOP?\n",
        "\n",
        "**Answer :**\n",
        "\n",
        "\n",
        "\n",
        "*   Method chaining is a technique in Object-Oriented Programming where multiple methods are called on the same object in a single line, one after another. This is possible when each method returns self (the current object), allowing the next method to be called directly.\n",
        "\n",
        "\n",
        "**Key Features of Method Chaining : **\n",
        "\n",
        "| Feature              | Description                                                                 |\n",
        "|---------------------|-----------------------------------------------------------------------------|\n",
        "| Fluent Interface     | Creates readable, fluid-style code.                                         |\n",
        "| Returns self         | Each method must return the object (`self`) to allow chaining.              |\n",
        "| Compact Syntax       | Reduces the need for multiple lines of code.                                |\n",
        "| Common Use Cases     | Used in builder patterns, data pipelines, and configuration setups.         |\n",
        "\n",
        "\n",
        "**Example :**\n",
        "\n",
        "\n",
        "\n",
        "```\n",
        "# class Student:\n",
        "    def __init__(self, name):\n",
        "        self.name = name\n",
        "        self.courses = []\n",
        "\n",
        "    def enroll(self, course):\n",
        "        self.courses.append(course)\n",
        "        return self\n",
        "\n",
        "    def show_courses(self):\n",
        "        print(f\"{self.name} is enrolled in: {', '.join(self.courses)}\")\n",
        "        return self\n",
        "\n",
        "# Method chaining in action\n",
        "s1 = Student(\"Priya\")\n",
        "s1.enroll(\"Python\").enroll(\"SQL\").show_courses()\n",
        "\n",
        "```\n",
        "\n",
        "**Output:**\n",
        "Priya is enrolled in: Python, SQL\n",
        "\n"
      ],
      "metadata": {
        "id": "U7R4yD2mOdS7"
      }
    },
    {
      "cell_type": "markdown",
      "source": [
        "**Question 25.** What is the purpose of the __ call__ method in Python?\n",
        "\n",
        "**Answer :**\n",
        "\n",
        "\n",
        "\n",
        "*   The __ call__ method is a special (dunder) method in Python that allows an object of a class to be called like a function. When you use parentheses after an object, Python internally invokes the __ call__ method of that object.\n",
        "\n",
        "**Key Features of __ call__ Method :**\n",
        "\n",
        "| Feature                  | Description                                                              |\n",
        "|--------------------------|--------------------------------------------------------------------------|\n",
        "| Function-like Behavior   | Enables objects to behave like functions.                                |\n",
        "| Custom Execution Logic   | You can define what happens when the object is \"called\".                 |\n",
        "| Useful in Decorators     | Commonly used in classes that implement decorators or callable wrappers. |\n",
        "| Enhances Flexibility     | Makes object usage more intuitive and dynamic.                           |\n",
        "\n",
        "\n",
        "**Examples :**\n",
        "\n",
        "\n",
        "\n",
        "\n",
        "```\n",
        "# class Multiplier:\n",
        "    def __init__(self, factor):\n",
        "        self.factor = factor\n",
        "\n",
        "    def __call__(self, value):\n",
        "        return value * self.factor\n",
        "\n",
        "# Creating a callable object\n",
        "double = Multiplier(2)\n",
        "triple = Multiplier(3)\n",
        "\n",
        "# Using the object like a function\n",
        "print(double(5))  # Output: 10\n",
        "print(triple(4))  # Output: 12\n",
        "\n",
        "```\n",
        "\n"
      ],
      "metadata": {
        "id": "ZgL4FGAHPLFY"
      }
    },
    {
      "cell_type": "markdown",
      "source": [
        "##Practical Questions OOP :"
      ],
      "metadata": {
        "id": "iH9EY0aXP5Tg"
      }
    },
    {
      "cell_type": "markdown",
      "source": [
        "**Q 1.** Create a parent class Animal with a method speak() that prints a generic message. Create a child class Dog that overrides the speak() method to print \"Bark!\".\n"
      ],
      "metadata": {
        "id": "ry5i6FMiU7mB"
      }
    },
    {
      "cell_type": "code",
      "source": [
        "# Parent class\n",
        "class Animal:\n",
        "    def speak(self):\n",
        "        print(\"This is a generic animal sound.\")\n",
        "\n",
        "# Child class\n",
        "class Dog(Animal):\n",
        "    def speak(self):\n",
        "        print(\"Bark!\")\n",
        "\n",
        "# Creating objects\n",
        "a = Animal()\n",
        "a.speak()   # Calls parent class method\n",
        "\n",
        "d = Dog()\n",
        "d.speak()   # Calls overridden method in child class\n"
      ],
      "metadata": {
        "colab": {
          "base_uri": "https://localhost:8080/"
        },
        "id": "FYIRTeDdQAqu",
        "outputId": "0f180551-0986-4b3f-c3db-e3b96c30bfc7"
      },
      "execution_count": null,
      "outputs": [
        {
          "output_type": "stream",
          "name": "stdout",
          "text": [
            "This is a generic animal sound.\n",
            "Bark!\n"
          ]
        }
      ]
    },
    {
      "cell_type": "markdown",
      "source": [
        "**Q 2.**  Write a program to create an abstract class Shape with a method area(). Derive classes Circle and Rectangle from it and implement the area() method in both"
      ],
      "metadata": {
        "id": "psxjNNkpVUVW"
      }
    },
    {
      "cell_type": "code",
      "source": [
        "from abc import ABC, abstractmethod\n",
        "import math\n",
        "\n",
        "# Abstract class\n",
        "class Shape(ABC):\n",
        "    @abstractmethod\n",
        "    def area(self):\n",
        "        pass\n",
        "\n",
        "\n",
        "# Derived class: Circle\n",
        "class Circle(Shape):\n",
        "    def __init__(self, radius):\n",
        "        self.radius = radius\n",
        "\n",
        "    def area(self):\n",
        "        return math.pi * self.radius * self.radius\n",
        "\n",
        "\n",
        "# Derived class: Rectangle\n",
        "class Rectangle(Shape):\n",
        "    def __init__(self, length, width):\n",
        "        self.length = length\n",
        "        self.width = width\n",
        "\n",
        "    def area(self):\n",
        "        return self.length * self.width\n",
        "\n",
        "\n",
        "# Creating objects and printing areas\n",
        "c = Circle(5)\n",
        "r = Rectangle(4, 6)\n",
        "\n",
        "print(\"Area of Circle:\", c.area())\n",
        "print(\"Area of Rectangle:\", r.area())\n",
        "\n"
      ],
      "metadata": {
        "colab": {
          "base_uri": "https://localhost:8080/"
        },
        "id": "c7uCqBuSQZho",
        "outputId": "98644350-3708-44b9-bb8a-17150e380e18"
      },
      "execution_count": null,
      "outputs": [
        {
          "output_type": "stream",
          "name": "stdout",
          "text": [
            "Area of Circle: 78.53981633974483\n",
            "Area of Rectangle: 24\n"
          ]
        }
      ]
    },
    {
      "cell_type": "markdown",
      "source": [
        "**Q3.** Implement a multi-level inheritance scenario where a class Vehicle has an attribute type. Derive a class Car and further derive a class ElectricCar that adds a battery attribute"
      ],
      "metadata": {
        "id": "U6CiYCvaVmkA"
      }
    },
    {
      "cell_type": "code",
      "source": [
        "# Base class\n",
        "class Vehicle:\n",
        "    def __init__(self, v_type):\n",
        "        self.v_type = v_type\n",
        "\n",
        "    def show_type(self):\n",
        "        print(f\"Vehicle Type: {self.v_type}\")\n",
        "\n",
        "\n",
        "# Derived class\n",
        "class Car(Vehicle):\n",
        "    def __init__(self, v_type, brand):\n",
        "        super().__init__(v_type)   # Calling parent constructor\n",
        "        self.brand = brand\n",
        "\n",
        "    def show_car(self):\n",
        "        print(f\"Car Brand: {self.brand}\")\n",
        "\n",
        "\n",
        "# Further derived class\n",
        "class ElectricCar(Car):\n",
        "    def __init__(self, v_type, brand, battery):\n",
        "        super().__init__(v_type, brand)   # Calling Car constructor\n",
        "        self.battery = battery\n",
        "\n",
        "    def show_electric_car(self):\n",
        "        print(f\"Battery Capacity: {self.battery} kWh\")\n",
        "\n",
        "\n",
        "# Creating object of ElectricCar\n",
        "e_car = ElectricCar(\"Four Wheeler\", \"Tesla\", 75)\n",
        "\n",
        "# Accessing methods from all levels\n",
        "e_car.show_type()          # From Vehicle\n",
        "e_car.show_car()           # From Car\n",
        "e_car.show_electric_car()  # From ElectricCar\n"
      ],
      "metadata": {
        "colab": {
          "base_uri": "https://localhost:8080/"
        },
        "id": "fPm2Me3WQsn7",
        "outputId": "0cbe33d0-88f6-4cad-91fd-984d9da7ce50"
      },
      "execution_count": null,
      "outputs": [
        {
          "output_type": "stream",
          "name": "stdout",
          "text": [
            "Vehicle Type: Four Wheeler\n",
            "Car Brand: Tesla\n",
            "Battery Capacity: 75 kWh\n"
          ]
        }
      ]
    },
    {
      "cell_type": "markdown",
      "source": [
        "**Q 4.** Demonstrate polymorphism by creating a base class Bird with a method fly(). Create two derived classes Sparrow and Penguin that override the fly() method."
      ],
      "metadata": {
        "id": "2BnqOtmvVyYs"
      }
    },
    {
      "cell_type": "code",
      "source": [
        "# Base class\n",
        "class Bird:\n",
        "    def fly(self):\n",
        "        print(\"Some birds can fly, some cannot.\")\n",
        "\n",
        "# Derived class 1\n",
        "class Sparrow(Bird):\n",
        "    def fly(self):\n",
        "        print(\"Sparrow can fly high in the sky.\")\n",
        "\n",
        "# Derived class 2\n",
        "class Penguin(Bird):\n",
        "    def fly(self):\n",
        "        print(\"Penguin cannot fly, but can swim.\")\n",
        "\n",
        "# Demonstrating polymorphism\n",
        "birds = [Sparrow(), Penguin()]\n",
        "\n",
        "for bird in birds:\n",
        "    bird.fly()   # Same method name, different behavior\n"
      ],
      "metadata": {
        "colab": {
          "base_uri": "https://localhost:8080/"
        },
        "id": "7di6t6JLRF7Q",
        "outputId": "9555f26c-0aa1-4ab5-d913-805640f93578"
      },
      "execution_count": null,
      "outputs": [
        {
          "output_type": "stream",
          "name": "stdout",
          "text": [
            "Sparrow can fly high in the sky.\n",
            "Penguin cannot fly, but can swim.\n"
          ]
        }
      ]
    },
    {
      "cell_type": "markdown",
      "source": [
        "**Q 5. Write a program to demonstrate encapsulation by creating a class BankAccount with private attributes balance and methods to deposit, withdraw, and check bal**"
      ],
      "metadata": {
        "id": "AeSvZXeKV74z"
      }
    },
    {
      "cell_type": "code",
      "source": [
        "class BankAccount:\n",
        "    def __init__(self, balance=0):\n",
        "        # Private attribute\n",
        "        self.__balance = balance\n",
        "\n",
        "    # Method to deposit money\n",
        "    def deposit(self, amount):\n",
        "        if amount > 0:\n",
        "            self.__balance += amount\n",
        "            print(f\"Deposited: {amount}\")\n",
        "        else:\n",
        "            print(\"Invalid deposit amount.\")\n",
        "\n",
        "    # Method to withdraw money\n",
        "    def withdraw(self, amount):\n",
        "        if 0 < amount <= self.__balance:\n",
        "            self.__balance -= amount\n",
        "            print(f\"Withdrew: {amount}\")\n",
        "        else:\n",
        "            print(\"Insufficient balance or invalid amount.\")\n",
        "\n",
        "    # Method to check balance\n",
        "    def check_balance(self):\n",
        "        print(f\"Current Balance: {self.__balance}\")\n",
        "\n",
        "\n",
        "# Creating an object\n",
        "account = BankAccount(1000)\n",
        "\n",
        "# Performing operations\n",
        "account.deposit(500)\n",
        "account.withdraw(300)\n",
        "account.check_balance()\n"
      ],
      "metadata": {
        "colab": {
          "base_uri": "https://localhost:8080/"
        },
        "id": "KJJT0PBORV0W",
        "outputId": "246f3ed8-d84c-4381-ff4e-d4c6bcdf6c6c"
      },
      "execution_count": null,
      "outputs": [
        {
          "output_type": "stream",
          "name": "stdout",
          "text": [
            "Deposited: 500\n",
            "Withdrew: 300\n",
            "Current Balance: 1200\n"
          ]
        }
      ]
    },
    {
      "cell_type": "markdown",
      "source": [
        "**Q 6.** Demonstrate runtime polymorphism using a method play() in a base class  Instrument. Derive classes Guitar and Piano that implement their own version of play()"
      ],
      "metadata": {
        "id": "gj_rxPWjWHrP"
      }
    },
    {
      "cell_type": "code",
      "source": [
        "# Base class\n",
        "class Instrument:\n",
        "    def play(self):\n",
        "        print(\"Playing an instrument...\")\n",
        "\n",
        "# Derived class 1\n",
        "class Guitar(Instrument):\n",
        "    def play(self):\n",
        "        print(\"Strumming the guitar.\")\n",
        "\n",
        "# Derived class 2\n",
        "class Piano(Instrument):\n",
        "    def play(self):\n",
        "        print(\"Playing the piano keys.\")\n",
        "\n",
        "# Demonstrating runtime polymorphism\n",
        "instruments = [Guitar(), Piano()]\n",
        "\n",
        "for instrument in instruments:\n",
        "    instrument.play()   # Same method, different behavior at runtime\n"
      ],
      "metadata": {
        "colab": {
          "base_uri": "https://localhost:8080/"
        },
        "id": "DXKO8YMaRjfS",
        "outputId": "ccd0f83a-75bf-40f6-bb20-f1fb45e19f19"
      },
      "execution_count": null,
      "outputs": [
        {
          "output_type": "stream",
          "name": "stdout",
          "text": [
            "Strumming the guitar.\n",
            "Playing the piano keys.\n"
          ]
        }
      ]
    },
    {
      "cell_type": "markdown",
      "source": [
        "**Q 7.** Create a class MathOperations with a class method add_numbers() to add two numbers and a static method subtract_numbers() to subtract two numbers.\n"
      ],
      "metadata": {
        "id": "IyS8kq7AglA3"
      }
    },
    {
      "cell_type": "code",
      "source": [
        "class MathOperations:\n",
        "\n",
        "    # Class method\n",
        "    @classmethod\n",
        "    def add_numbers(cls, a, b):\n",
        "        return a + b\n",
        "\n",
        "    # Static method\n",
        "    @staticmethod\n",
        "    def subtract_numbers(a, b):\n",
        "        return a - b\n",
        "\n",
        "\n",
        "# Using class method\n",
        "result1 = MathOperations.add_numbers(10, 5)\n",
        "print(\"Addition:\", result1)\n",
        "\n",
        "# Using static method\n",
        "result2 = MathOperations.subtract_numbers(10, 5)\n",
        "print(\"Subtraction:\", result2)\n"
      ],
      "metadata": {
        "colab": {
          "base_uri": "https://localhost:8080/"
        },
        "id": "FhnGLw1LRyzb",
        "outputId": "66f9241c-5ac4-490a-dc0f-f8c7b94d47fe"
      },
      "execution_count": null,
      "outputs": [
        {
          "output_type": "stream",
          "name": "stdout",
          "text": [
            "Addition: 15\n",
            "Subtraction: 5\n"
          ]
        }
      ]
    },
    {
      "cell_type": "markdown",
      "source": [
        "**Q 8.** Implement a class Person with a class method to count the total number of persons created.\n"
      ],
      "metadata": {
        "id": "m66kcH0_gzy2"
      }
    },
    {
      "cell_type": "code",
      "source": [
        "class Person:\n",
        "    # Class variable to keep count\n",
        "    count = 0\n",
        "\n",
        "    def __init__(self, name):\n",
        "        self.name = name\n",
        "        Person.count += 1   # Increase count whenever a new object is created\n",
        "\n",
        "    # Class method to get total count\n",
        "    @classmethod\n",
        "    def total_persons(cls):\n",
        "        return cls.count\n",
        "\n",
        "\n",
        "# Creating objects\n",
        "p1 = Person(\"Priya\")\n",
        "p2 = Person(\"Rahul\")\n",
        "p3 = Person(\"Anita\")\n",
        "\n",
        "# Checking total persons created\n",
        "print(\"Total persons created:\", Person.total_persons())\n"
      ],
      "metadata": {
        "colab": {
          "base_uri": "https://localhost:8080/"
        },
        "id": "qpM0bhY3SBns",
        "outputId": "f0667158-391b-4f89-a1d2-c1b62f902f35"
      },
      "execution_count": null,
      "outputs": [
        {
          "output_type": "stream",
          "name": "stdout",
          "text": [
            "Total persons created: 3\n"
          ]
        }
      ]
    },
    {
      "cell_type": "markdown",
      "source": [
        "**Q 9.** Write a class Fraction with attributes numerator and denominator. Override the str method to display the fraction as \"numerator/denominator\""
      ],
      "metadata": {
        "id": "1w-R9mAUhAmg"
      }
    },
    {
      "cell_type": "code",
      "source": [
        "class Fraction:\n",
        "    def __init__(self, numerator, denominator):\n",
        "        self.numerator = numerator\n",
        "        self.denominator = denominator\n",
        "\n",
        "    # Overriding __str__ method\n",
        "    def __str__(self):\n",
        "        return f\"{self.numerator}/{self.denominator}\"\n",
        "\n",
        "\n",
        "# Creating objects\n",
        "f1 = Fraction(3, 4)\n",
        "f2 = Fraction(7, 2)\n",
        "\n",
        "# Printing fractions\n",
        "print(f1)\n",
        "print(f2)\n"
      ],
      "metadata": {
        "colab": {
          "base_uri": "https://localhost:8080/"
        },
        "id": "5Z0Mvy8-SJvu",
        "outputId": "ead43105-2833-4414-bf16-0bf7ab044a23"
      },
      "execution_count": null,
      "outputs": [
        {
          "output_type": "stream",
          "name": "stdout",
          "text": [
            "3/4\n",
            "7/2\n"
          ]
        }
      ]
    },
    {
      "cell_type": "markdown",
      "source": [],
      "metadata": {
        "id": "g4uMRmz4hNS_"
      }
    },
    {
      "cell_type": "markdown",
      "source": [
        "**Q 10.** Demonstrate operator overloading by creating a class Vector and overriding the add method to add two vectors\n"
      ],
      "metadata": {
        "id": "PkRC86bQhPzr"
      }
    },
    {
      "cell_type": "code",
      "source": [
        "\n",
        "class Vector:\n",
        "    def __init__(self, x, y):\n",
        "        self.x = x\n",
        "        self.y = y\n",
        "\n",
        "    # Overloading the + operator\n",
        "    def __add__(self, other):\n",
        "        return Vector(self.x + other.x, self.y + other.y)\n",
        "\n",
        "    # For readable output\n",
        "    def __str__(self):\n",
        "        return f\"({self.x}, {self.y})\"\n",
        "\n",
        "\n",
        "# Creating two vectors\n",
        "v1 = Vector(2, 3)\n",
        "v2 = Vector(4, 5)\n",
        "\n",
        "# Adding two vectors using +\n",
        "result = v1 + v2\n",
        "\n",
        "print(\"Vector 1:\", v1)\n",
        "print(\"Vector 2:\", v2)\n",
        "print(\"Result of Addition:\", result)\n"
      ],
      "metadata": {
        "colab": {
          "base_uri": "https://localhost:8080/"
        },
        "id": "5A8QBNAVSVyA",
        "outputId": "ebbda102-93b1-4bf8-bf49-505318e5b269"
      },
      "execution_count": null,
      "outputs": [
        {
          "output_type": "stream",
          "name": "stdout",
          "text": [
            "Vector 1: (2, 3)\n",
            "Vector 2: (4, 5)\n",
            "Result of Addition: (6, 8)\n"
          ]
        }
      ]
    },
    {
      "cell_type": "markdown",
      "source": [
        "**Q 11.**. Create a class Person with attributes name and age. Add a method greet() that prints \"Hello, my name is {name} and I am {age} years old.\n"
      ],
      "metadata": {
        "id": "YIfqv4hwhe9Z"
      }
    },
    {
      "cell_type": "code",
      "source": [
        "class Person:\n",
        "    def __init__(self, name, age):\n",
        "        self.name = name\n",
        "        self.age = age\n",
        "\n",
        "    def greet(self):\n",
        "        print(f\"Hello, my name is {self.name} and I am {self.age} years old.\")\n",
        "\n",
        "\n",
        "# Creating an object\n",
        "p1 = Person(\"Priya\", 23)\n",
        "\n",
        "# Calling the greet method\n",
        "p1.greet()\n"
      ],
      "metadata": {
        "colab": {
          "base_uri": "https://localhost:8080/"
        },
        "id": "oBo7runySfKw",
        "outputId": "0fa3944b-ffda-4edb-8c8d-cdad6b3c97eb"
      },
      "execution_count": null,
      "outputs": [
        {
          "output_type": "stream",
          "name": "stdout",
          "text": [
            "Hello, my name is Priya and I am 23 years old.\n"
          ]
        }
      ]
    },
    {
      "cell_type": "markdown",
      "source": [
        "**Q 12.** Implement a class Student with attributes name and grades. Create a method average_grade() to compute the average of the grades"
      ],
      "metadata": {
        "id": "k983Q1tKhnq6"
      }
    },
    {
      "cell_type": "code",
      "source": [
        "\n",
        "class Student:\n",
        "    def __init__(self, name, grades):\n",
        "        self.name = name\n",
        "        self.grades = grades   # grades should be a list of numbers\n",
        "\n",
        "    def average_grade(self):\n",
        "        return sum(self.grades) / len(self.grades)\n",
        "\n",
        "\n",
        "# Creating an object\n",
        "s1 = Student(\"Priya\", [85, 90, 78, 92])\n",
        "\n",
        "# Displaying result\n",
        "print(\"Student Name:\", s1.name)\n",
        "print(\"Average Grade:\", s1.average_grade())\n"
      ],
      "metadata": {
        "colab": {
          "base_uri": "https://localhost:8080/"
        },
        "id": "POXz4vzmSwTW",
        "outputId": "09ac9c13-a743-469f-e75d-55c911d0933d"
      },
      "execution_count": null,
      "outputs": [
        {
          "output_type": "stream",
          "name": "stdout",
          "text": [
            "Student Name: Priya\n",
            "Average Grade: 86.25\n"
          ]
        }
      ]
    },
    {
      "cell_type": "markdown",
      "source": [
        "**Q 13.** Create a class Rectangle with methods set_dimensions() to set the dimensions and area() to calculate the area"
      ],
      "metadata": {
        "id": "kHWtVcgwh0qr"
      }
    },
    {
      "cell_type": "code",
      "source": [
        "class Rectangle:\n",
        "    def __init__(self):\n",
        "        self.length = 0\n",
        "        self.width = 0\n",
        "\n",
        "    def set_dimensions(self, length, width):\n",
        "        self.length = length\n",
        "        self.width = width\n",
        "\n",
        "    def area(self):\n",
        "        return self.length * self.width\n",
        "\n",
        "\n",
        "# Creating an object\n",
        "rect = Rectangle()\n",
        "\n",
        "# Setting dimensions\n",
        "rect.set_dimensions(10, 5)\n",
        "\n",
        "# Displaying result\n",
        "print(\"Length:\", rect.length)\n",
        "print(\"Width:\", rect.width)\n",
        "print(\"Area of Rectangle:\", rect.area())\n"
      ],
      "metadata": {
        "colab": {
          "base_uri": "https://localhost:8080/"
        },
        "id": "ymrHqwUcS7Hg",
        "outputId": "bfdb6d20-2c57-4c8c-c70a-7de13053c6c3"
      },
      "execution_count": null,
      "outputs": [
        {
          "output_type": "stream",
          "name": "stdout",
          "text": [
            "Length: 10\n",
            "Width: 5\n",
            "Area of Rectangle: 50\n"
          ]
        }
      ]
    },
    {
      "cell_type": "markdown",
      "source": [
        "**Q 14.** Create a class Employee with a method calculate_salary() that computes the salary based on hours worked and hourly rate. Create a derived class Manager that adds a bonus to the salary\n"
      ],
      "metadata": {
        "id": "y22XyCOVh8Jl"
      }
    },
    {
      "cell_type": "code",
      "source": [
        "\n",
        "class Employee:\n",
        "    def __init__(self, name, hours_worked, hourly_rate):\n",
        "        self.name = name\n",
        "        self.hours_worked = hours_worked\n",
        "        self.hourly_rate = hourly_rate\n",
        "\n",
        "    def calculate_salary(self):\n",
        "        return self.hours_worked * self.hourly_rate\n",
        "\n",
        "\n",
        "class Manager(Employee):\n",
        "    def __init__(self, name, hours_worked, hourly_rate, bonus):\n",
        "        super().__init__(name, hours_worked, hourly_rate)\n",
        "        self.bonus = bonus\n",
        "\n",
        "    def calculate_salary(self):\n",
        "        base_salary = super().calculate_salary()\n",
        "        return base_salary + self.bonus\n",
        "\n",
        "\n",
        "# Creating objects\n",
        "emp = Employee(\"Priya\", 40, 200)\n",
        "mgr = Manager(\"Rahul\", 45, 300, 5000)\n",
        "\n",
        "# Displaying salaries\n",
        "print(f\"Employee: {emp.name}, Salary: {emp.calculate_salary()}\")\n",
        "print(f\"Manager: {mgr.name}, Salary: {mgr.calculate_salary()}\")\n"
      ],
      "metadata": {
        "colab": {
          "base_uri": "https://localhost:8080/"
        },
        "id": "yeIDBs0GTHTc",
        "outputId": "1f93a33e-d509-4e1f-e6af-3a78cf472357"
      },
      "execution_count": null,
      "outputs": [
        {
          "output_type": "stream",
          "name": "stdout",
          "text": [
            "Employee: Priya, Salary: 8000\n",
            "Manager: Rahul, Salary: 18500\n"
          ]
        }
      ]
    },
    {
      "cell_type": "markdown",
      "source": [
        "**Q 15.** Create a class Product with attributes name, price, and quantity. Implement a method total_price() that calculates the total price of the product"
      ],
      "metadata": {
        "id": "WQ3Ei5qsiNMB"
      }
    },
    {
      "cell_type": "code",
      "source": [
        "class Product:\n",
        "    def __init__(self, name, price, quantity):\n",
        "        self.name = name\n",
        "        self.price = price\n",
        "        self.quantity = quantity\n",
        "\n",
        "    def total_price(self):\n",
        "        return self.price * self.quantity\n",
        "\n",
        "\n",
        "# Creating an object\n",
        "p1 = Product(\"Laptop\", 50000, 2)\n",
        "\n",
        "# Displaying product details and total price\n",
        "print(\"Product Name:\", p1.name)\n",
        "print(\"Price per unit:\", p1.price)\n",
        "print(\"Quantity:\", p1.quantity)\n",
        "print(\"Total Price:\", p1.total_price())\n"
      ],
      "metadata": {
        "colab": {
          "base_uri": "https://localhost:8080/"
        },
        "id": "wV6eMt_kTV_X",
        "outputId": "fff950bd-70e2-4116-e590-4615abac8fb9"
      },
      "execution_count": null,
      "outputs": [
        {
          "output_type": "stream",
          "name": "stdout",
          "text": [
            "Product Name: Laptop\n",
            "Price per unit: 50000\n",
            "Quantity: 2\n",
            "Total Price: 100000\n"
          ]
        }
      ]
    },
    {
      "cell_type": "markdown",
      "source": [
        "**Q 16.** Create a class Animal with an abstract method sound(). Create two derived classes Cow and Sheep that implement the sound() method"
      ],
      "metadata": {
        "id": "cydoGsGOiWJN"
      }
    },
    {
      "cell_type": "code",
      "source": [
        "from abc import ABC, abstractmethod\n",
        "\n",
        "class Animal(ABC):\n",
        "    @abstractmethod\n",
        "    def sound(self):\n",
        "        pass\n",
        "\n",
        "\n",
        "class Cow(Animal):\n",
        "    def sound(self):\n",
        "        return \"Moo\"\n",
        "\n",
        "\n",
        "class Sheep(Animal):\n",
        "    def sound(self):\n",
        "        return \"Baa\"\n",
        "\n",
        "\n",
        "# Creating objects\n",
        "cow = Cow()\n",
        "sheep = Sheep()\n",
        "\n",
        "# Displaying sounds\n",
        "print(\"Cow Sound:\", cow.sound())\n",
        "print(\"Sheep Sound:\", sheep.sound())\n"
      ],
      "metadata": {
        "colab": {
          "base_uri": "https://localhost:8080/"
        },
        "id": "HJIDen1yTi5x",
        "outputId": "8fd59117-c586-413c-8be2-c01b4070c6c9"
      },
      "execution_count": null,
      "outputs": [
        {
          "output_type": "stream",
          "name": "stdout",
          "text": [
            "Cow Sound: Moo\n",
            "Sheep Sound: Baa\n"
          ]
        }
      ]
    },
    {
      "cell_type": "markdown",
      "source": [
        "**Q 17.** Create a class Book with attributes title, author, and year_published. Add a method get_book_info() that returns a formatted string with the book's details"
      ],
      "metadata": {
        "id": "h0DxqsfIieyN"
      }
    },
    {
      "cell_type": "code",
      "source": [
        "\n",
        "class Book:\n",
        "    def __init__(self, title, author, year_published):\n",
        "        self.title = title\n",
        "        self.author = author\n",
        "        self.year_published = year_published\n",
        "\n",
        "    def get_book_info(self):\n",
        "        return f\"'{self.title}' by {self.author}, published in {self.year_published}\"\n",
        "\n",
        "\n",
        "# Creating an object\n",
        "book1 = Book(\"The Alchemist\", \"Paulo Coelho\", 1988)\n",
        "\n",
        "# Displaying book info\n",
        "print(book1.get_book_info())\n"
      ],
      "metadata": {
        "colab": {
          "base_uri": "https://localhost:8080/"
        },
        "id": "POmBf9FcTtPr",
        "outputId": "fe78ca80-9ee5-452f-eeeb-fc0fafb23cca"
      },
      "execution_count": null,
      "outputs": [
        {
          "output_type": "stream",
          "name": "stdout",
          "text": [
            "'The Alchemist' by Paulo Coelho, published in 1988\n"
          ]
        }
      ]
    },
    {
      "cell_type": "markdown",
      "source": [
        "**Q. 18.** Create a class House with attributes address and price. Create a derived class Mansion that adds an attribute number_of_rooms."
      ],
      "metadata": {
        "id": "83Axt8WGUdq5"
      }
    },
    {
      "cell_type": "code",
      "source": [
        "\n",
        "class House:\n",
        "    def __init__(self, address, price):\n",
        "        self.address = address\n",
        "        self.price = price\n",
        "\n",
        "\n",
        "class Mansion(House):\n",
        "    def __init__(self, address, price, number_of_rooms):\n",
        "        super().__init__(address, price)\n",
        "        self.number_of_rooms = number_of_rooms\n",
        "\n",
        "\n",
        "# Creating objects\n",
        "house1 = House(\"123 Green Street\", 5000000)\n",
        "mansion1 = Mansion(\"456 Lake View\", 20000000, 15)\n",
        "\n",
        "# Displaying details\n",
        "print(\"House Address:\", house1.address)\n",
        "print(\"House Price:\", house1.price)\n",
        "\n",
        "print(\"\\nMansion Address:\", mansion1.address)\n",
        "print(\"Mansion Price:\", mansion1.price)\n",
        "print(\"Number of Rooms:\", mansion1.number_of_rooms)\n"
      ],
      "metadata": {
        "colab": {
          "base_uri": "https://localhost:8080/"
        },
        "id": "C6ATuYdlUHDR",
        "outputId": "5b5d4f04-9071-413a-b15d-20dbf1685c8e"
      },
      "execution_count": null,
      "outputs": [
        {
          "output_type": "stream",
          "name": "stdout",
          "text": [
            "House Address: 123 Green Street\n",
            "House Price: 5000000\n",
            "\n",
            "Mansion Address: 456 Lake View\n",
            "Mansion Price: 20000000\n",
            "Number of Rooms: 15\n"
          ]
        }
      ]
    }
  ]
}